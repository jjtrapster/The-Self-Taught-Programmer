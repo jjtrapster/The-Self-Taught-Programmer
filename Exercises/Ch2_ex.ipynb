{
 "cells": [
  {
   "cell_type": "markdown",
   "id": "d3a571f2-2a57-483f-811b-9e4ce0cef8db",
   "metadata": {},
   "source": [
    "# Exercises Chapter 2 - Solutions and Shenanigans"
   ]
  },
  {
   "cell_type": "code",
   "execution_count": null,
   "id": "d44da424-f739-4595-9778-51115d186088",
   "metadata": {},
   "outputs": [],
   "source": []
  }
 ],
 "metadata": {
  "kernelspec": {
   "display_name": "Python 3 (ipykernel)",
   "language": "python",
   "name": "python3"
  },
  "language_info": {
   "codemirror_mode": {
    "name": "ipython",
    "version": 3
   },
   "file_extension": ".py",
   "mimetype": "text/x-python",
   "name": "python",
   "nbconvert_exporter": "python",
   "pygments_lexer": "ipython3",
   "version": "3.9.2"
  }
 },
 "nbformat": 4,
 "nbformat_minor": 5
}
