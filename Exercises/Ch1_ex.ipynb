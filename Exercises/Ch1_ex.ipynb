{
 "cells": [
  {
   "cell_type": "code",
   "execution_count": 1,
   "id": "1d7a84c6-e03e-4841-a61e-ea736cffe5f5",
   "metadata": {},
   "outputs": [],
   "source": [
    "# Chapter 1 Exercises - Solutions and a little bit of playing around"
   ]
  },
  {
   "cell_type": "code",
   "execution_count": 5,
   "id": "737dcd13-ec26-448d-9712-ebd57a67ab25",
   "metadata": {},
   "outputs": [
    {
     "name": "stdout",
     "output_type": "stream",
     "text": [
      "Tool\n",
      "is\n",
      "insane\n"
     ]
    }
   ],
   "source": [
    "# Exercise 1\n",
    "\n",
    "print(\"Tool\")\n",
    "print(\"is\")\n",
    "print(\"insane\")"
   ]
  },
  {
   "cell_type": "code",
   "execution_count": 8,
   "id": "4fd2015a-265f-4ce4-abb6-62e56d30108f",
   "metadata": {},
   "outputs": [
    {
     "name": "stdin",
     "output_type": "stream",
     "text": [
      "give me a variable arr: 10\n"
     ]
    },
    {
     "name": "stdout",
     "output_type": "stream",
     "text": [
      "Fannybaws drinks Rum and passes out!\n"
     ]
    }
   ],
   "source": [
    "# Exercise 2\n",
    "\n",
    "x = input(\"give me a variable arr:\")\n",
    "x = int(x)\n",
    "\n",
    "if x < 10:\n",
    "    print(\"Fannybaws is a fearsome pirate!\")\n",
    "\n",
    "else:\n",
    "    print(\"Fannybaws drinks Rum and passes out!\")"
   ]
  },
  {
   "cell_type": "code",
   "execution_count": 9,
   "id": "cd257a65-adfe-4e07-9cbd-6aeaa32308a8",
   "metadata": {},
   "outputs": [
    {
     "name": "stdin",
     "output_type": "stream",
     "text": [
      "give me a variable arr: 15\n"
     ]
    },
    {
     "name": "stdout",
     "output_type": "stream",
     "text": [
      "Fannybaws drinks Rum and passes out!\n"
     ]
    }
   ],
   "source": [
    "# Exercise 3\n",
    "\n",
    "y = input(\"give me a variable arr:\")\n",
    "y = int(y)\n",
    "\n",
    "if y <= 10:\n",
    "    print(\"Fannybaws is a fearsome pirate!\")\n",
    "\n",
    "elif y > 10:\n",
    "    print(\"Fannybaws drinks Rum and passes out!\")\n",
    "\n",
    "elif y > 25:\n",
    "    print(\"Aboard the goood ship scum\")"
   ]
  },
  {
   "cell_type": "code",
   "execution_count": 11,
   "id": "32bf5965-5ed8-4ded-b152-efeea14e371a",
   "metadata": {},
   "outputs": [
    {
     "name": "stdout",
     "output_type": "stream",
     "text": [
      "0\n"
     ]
    }
   ],
   "source": [
    "# Exercise 4\n",
    "\n",
    "print(10 % 2)"
   ]
  },
  {
   "cell_type": "code",
   "execution_count": 13,
   "id": "98a24910-78f5-4994-a314-e9fa12b44a4e",
   "metadata": {},
   "outputs": [
    {
     "name": "stdout",
     "output_type": "stream",
     "text": [
      "5\n"
     ]
    }
   ],
   "source": [
    "print(10 // 2)"
   ]
  },
  {
   "cell_type": "code",
   "execution_count": null,
   "id": "227ed892-0b19-49ef-8f95-54c6d399d14b",
   "metadata": {},
   "outputs": [],
   "source": [
    "# Exercise 3\n",
    "\n",
    "age = input(\"What age is grown up?\")\n",
    "age = int(age)\n",
    "\n",
    "if age <= 10:\n",
    "    print(\"Ew!\")\n",
    "\n",
    "elif age > 10:\n",
    "    print(\"Ew\")\n",
    "\n",
    "elif age < 16:\n",
    "    print(\"Still ew brah\")\n",
    "\n",
    "elif age <= 18:\n",
    "    print(\"Almost\")\n",
    "\n",
    "else:\n",
    "    print(\"Finally!\")"
   ]
  }
 ],
 "metadata": {
  "kernelspec": {
   "display_name": "Python 3 (ipykernel)",
   "language": "python",
   "name": "python3"
  },
  "language_info": {
   "codemirror_mode": {
    "name": "ipython",
    "version": 3
   },
   "file_extension": ".py",
   "mimetype": "text/x-python",
   "name": "python",
   "nbconvert_exporter": "python",
   "pygments_lexer": "ipython3",
   "version": "3.9.2"
  }
 },
 "nbformat": 4,
 "nbformat_minor": 5
}
